{
 "cells": [
  {
   "cell_type": "code",
   "execution_count": null,
   "metadata": {
    "collapsed": true
   },
   "outputs": [],
   "source": [
    ""
   ]
  },
  {
   "metadata": {
    "ExecuteTime": {
     "end_time": "2025-05-10T18:28:31.948016133Z",
     "start_time": "2025-05-10T18:28:31.805015286Z"
    }
   },
   "cell_type": "code",
   "source": [
    "import kotlin.io.path.Path\n",
    "\n",
    "val keyDir = Path(\"./\")"
   ],
   "outputs": [],
   "execution_count": 1
  },
  {
   "metadata": {
    "ExecuteTime": {
     "end_time": "2025-05-10T18:42:26.386547822Z",
     "start_time": "2025-05-10T18:42:26.199303801Z"
    }
   },
   "cell_type": "code",
   "source": [
    "@file:OptIn(ExperimentalStdlibApi::class)\n",
    "\n",
    "import java.io.File\n",
    "import java.security.Key\n",
    "import java.security.KeyFactory\n",
    "import java.security.KeyPair\n",
    "import java.security.KeyPairGenerator\n",
    "import java.security.spec.KeySpec\n",
    "import java.security.spec.NamedParameterSpec\n",
    "import java.security.spec.PKCS8EncodedKeySpec\n",
    "import java.security.spec.X509EncodedKeySpec\n",
    "import javax.crypto.KEM\n",
    "import kotlin.io.path.Path\n",
    "\n",
    "\n",
    "private inline fun <reified T: KeySpec> KeyFactory.getKeySpec(key: Key): T =\n",
    "    getKeySpec(key, T::class.java)\n",
    "\n",
    "\n",
    "private val ML_KEM = \"ML-KEM\"\n",
    "val keyDir = Path(\"./\")\n",
    "\n",
    "val f = KeyFactory.getInstance(ML_KEM)\n",
    "\n",
    "val keys: Pair<File, File> = keyDir.resolve(\"key.pkcs8\").toFile() to keyDir.resolve(\"key.pub\").toFile()\n",
    "// maybe monad\n",
    "val kp: KeyPair = keys.takeIf { it.first.isFile && it.second.isFile }?.let { (privateKeyFile, pubKeyFile) ->\n",
    "    val p8 = PKCS8EncodedKeySpec(privateKeyFile.readBytes(), ML_KEM)\n",
    "    val privateKey = f.generatePrivate(p8)\n",
    "\n",
    "    val x509 = X509EncodedKeySpec(pubKeyFile.readBytes(), ML_KEM)\n",
    "    val pubKey = f.generatePublic(x509)\n",
    "\n",
    "    KeyPair(pubKey, privateKey)\n",
    "} ?: run {\n",
    "    val kpg = KeyPairGenerator.getInstance(ML_KEM)\n",
    "    kpg.initialize(NamedParameterSpec.ML_KEM_512)\n",
    "    kpg.generateKeyPair().also { kp ->\n",
    "        val f = KeyFactory.getInstance(ML_KEM)\n",
    "        val privateSpec = f.getKeySpec<PKCS8EncodedKeySpec>(kp.private)\n",
    "\n",
    "        val pubSpec = f.getKeySpec<X509EncodedKeySpec>(kp.public)\n",
    "    }\n",
    "}\n",
    "\n",
    "val ks = KEM.getInstance(ML_KEM)\n",
    "val enc = ks.newEncapsulator(kp.public)\n",
    "val dec = ks.newDecapsulator(kp.private)\n",
    "\n",
    "\n",
    "enc.encapsulate().also {\n",
    "    println(enc.secretSize())\n",
    "}"
   ],
   "outputs": [
    {
     "name": "stdout",
     "output_type": "stream",
     "text": [
      "32\n"
     ]
    },
    {
     "data": {
      "text/plain": [
       "javax.crypto.KEM$Encapsulated@61d6a8e9"
      ]
     },
     "execution_count": 11,
     "metadata": {},
     "output_type": "execute_result"
    }
   ],
   "execution_count": 11
  }
 ],
 "metadata": {
  "kernelspec": {
   "display_name": "Kotlin",
   "language": "kotlin",
   "name": "kotlin"
  },
  "language_info": {
   "name": "kotlin",
   "version": "1.9.23",
   "mimetype": "text/x-kotlin",
   "file_extension": ".kt",
   "pygments_lexer": "kotlin",
   "codemirror_mode": "text/x-kotlin",
   "nbconvert_exporter": ""
  }
 },
 "nbformat": 4,
 "nbformat_minor": 0
}
